{
 "cells": [
  {
   "cell_type": "code",
   "execution_count": 19,
   "id": "49e64bb5-d9dc-4532-8d15-0b64962445d1",
   "metadata": {},
   "outputs": [
    {
     "name": "stdout",
     "output_type": "stream",
     "text": [
      "5/6\n"
     ]
    }
   ],
   "source": [
    "#In a single toss of 2 fair (evenly-weighted) six-sided dice, find the probability that their sum will be at most 9.\n",
    "import math\n",
    "from fractions import Fraction\n",
    "\n",
    "dice_max = 6\n",
    "dice_min = 1\n",
    "dice_range = range(dice_min, dice_max + 1)\n",
    "count=0\n",
    "for d1 in dice_range:\n",
    "    for d2 in dice_range:\n",
    "        if (d1 + d2) <= 9:\n",
    "            count += 1\n",
    "possibilities = dice_max**2\n",
    "print(Fraction(count, possibilities))"
   ]
  },
  {
   "cell_type": "code",
   "execution_count": 20,
   "id": "49549cd6-737b-477a-8bc0-bc9db71ce244",
   "metadata": {},
   "outputs": [
    {
     "name": "stdout",
     "output_type": "stream",
     "text": [
      "range(1, 7)\n",
      "1/9\n"
     ]
    }
   ],
   "source": [
    "#In a single toss of 2 fair (evenly-weighted) six-sided dice, find the probability that the values rolled by each die will be different and the two dice have a sum of 6.\n",
    "from fractions import Fraction\n",
    "dice_max = 6\n",
    "dice_min = 1\n",
    "dice_range = range(dice_min, dice_max+1)\n",
    "print(dice_range)\n",
    "count = 0\n",
    "for d1 in dice_range:\n",
    "    for d2 in dice_range:\n",
    "        if (d1 != d2) and (d1+d2 == 6):\n",
    "            count+=1\n",
    "possibilities = dice_max**2\n",
    "print(Fraction(count, possibilities))"
   ]
  },
  {
   "cell_type": "code",
   "execution_count": 21,
   "id": "cef4f638-0dc0-4db4-8a22-78a062cb1d41",
   "metadata": {},
   "outputs": [
    {
     "name": "stdout",
     "output_type": "stream",
     "text": [
      "17/42\n"
     ]
    }
   ],
   "source": [
    "#Compound Event Probability\n",
    "#One ball is drawn from each of the 3 urns. What is the probability that, of the 3 balls drawn, 2 are red and 1 is black?\n",
    "from fractions import Fraction\n",
    "\n",
    "ux_red = 4\n",
    "ux_black = 3\n",
    "ux_total = ux_red+ux_black\n",
    "\n",
    "uy_red = 5\n",
    "uy_black = 4\n",
    "uy_total = uy_red+uy_black\n",
    "\n",
    "uz_red = 4\n",
    "uz_black = 4\n",
    "uz_total = uz_red+uz_black\n",
    "\n",
    "px_red = Fraction(ux_red, ux_total)\n",
    "px_black = Fraction(ux_black, ux_total)\n",
    "\n",
    "py_red = Fraction(uy_red, uy_total)\n",
    "py_black = Fraction(uy_black, uy_total)\n",
    "\n",
    "pz_red = Fraction(uz_red, uz_total)\n",
    "pz_black = Fraction(uz_black, uz_total)\n",
    "\n",
    "possibility = px_red * py_red * pz_black + px_red * py_black * pz_red + px_black * py_red * pz_red\n",
    "print(possibility)"
   ]
  },
  {
   "cell_type": "code",
   "execution_count": 34,
   "id": "77e084e5-c6db-4283-b397-0fc81371bdac",
   "metadata": {},
   "outputs": [
    {
     "name": "stdin",
     "output_type": "stream",
     "text": [
      " 1.09 1\n"
     ]
    },
    {
     "name": "stdout",
     "output_type": "stream",
     "text": [
      "0.656\n"
     ]
    }
   ],
   "source": [
    "#BINOMIAL DISTRIBUTION\n",
    "def fact (n):\n",
    "    return 1 if n == 0 else n*fact(n-1)\n",
    "\n",
    "def comb(n, x):\n",
    "    return fact(n) / (fact(x) * fact(n-x))\n",
    "\n",
    "def b(x, n, p):\n",
    "    return comb(n, x) * p**x * (1-p)**(n-x)\n",
    "\n",
    "l, r = list(map(float, input().split(\" \")))\n",
    "odds = 1 / r\n",
    "print(round(sum([b(i, 6, odds / (1 + odds)) for i in range(3, 7)]), 3))"
   ]
  },
  {
   "cell_type": "code",
   "execution_count": 28,
   "id": "4af9b32c-dea4-4b5a-b062-45cbcca0e969",
   "metadata": {},
   "outputs": [
    {
     "name": "stdin",
     "output_type": "stream",
     "text": [
      " 1.08/1\n"
     ]
    },
    {
     "ename": "ValueError",
     "evalue": "could not convert string to float: '1.08/1'",
     "output_type": "error",
     "traceback": [
      "\u001b[0;31m---------------------------------------------------------------------------\u001b[0m",
      "\u001b[0;31mValueError\u001b[0m                                Traceback (most recent call last)",
      "Cell \u001b[0;32mIn[28], line 10\u001b[0m\n\u001b[1;32m      7\u001b[0m \u001b[38;5;28;01mdef\u001b[39;00m \u001b[38;5;21mb\u001b[39m(n, x, p):\n\u001b[1;32m      8\u001b[0m     \u001b[38;5;28;01mreturn\u001b[39;00m comb(x, n)\u001b[38;5;241m*\u001b[39mp\u001b[38;5;241m*\u001b[39m\u001b[38;5;241m*\u001b[39mx\u001b[38;5;241m*\u001b[39m(\u001b[38;5;241m1\u001b[39m\u001b[38;5;241m-\u001b[39mp)\u001b[38;5;241m*\u001b[39m\u001b[38;5;241m*\u001b[39m(n\u001b[38;5;241m-\u001b[39mx)\n\u001b[0;32m---> 10\u001b[0m l, r \u001b[38;5;241m=\u001b[39m \u001b[38;5;28;43mlist\u001b[39;49m\u001b[43m(\u001b[49m\u001b[38;5;28;43mmap\u001b[39;49m\u001b[43m(\u001b[49m\u001b[38;5;28;43mfloat\u001b[39;49m\u001b[43m,\u001b[49m\u001b[43m \u001b[49m\u001b[38;5;28;43minput\u001b[39;49m\u001b[43m(\u001b[49m\u001b[43m)\u001b[49m\u001b[38;5;241;43m.\u001b[39;49m\u001b[43msplit\u001b[49m\u001b[43m(\u001b[49m\u001b[38;5;124;43m\"\u001b[39;49m\u001b[38;5;124;43m \u001b[39;49m\u001b[38;5;124;43m\"\u001b[39;49m\u001b[43m)\u001b[49m\u001b[43m)\u001b[49m\u001b[43m)\u001b[49m\n\u001b[1;32m     12\u001b[0m odds \u001b[38;5;241m=\u001b[39m \u001b[38;5;241m1\u001b[39m\u001b[38;5;241m/\u001b[39mr\n\u001b[1;32m     13\u001b[0m \u001b[38;5;28mprint\u001b[39m(\u001b[38;5;28mround\u001b[39m(\u001b[38;5;28msum\u001b[39m([b(i, \u001b[38;5;241m6\u001b[39m, odds\u001b[38;5;241m/\u001b[39m(\u001b[38;5;241m1\u001b[39m\u001b[38;5;241m+\u001b[39modds)) \u001b[38;5;28;01mfor\u001b[39;00m i \u001b[38;5;129;01min\u001b[39;00m \u001b[38;5;28mrange\u001b[39m(\u001b[38;5;241m3\u001b[39m, \u001b[38;5;241m7\u001b[39m)]), \u001b[38;5;241m3\u001b[39m))\n",
      "\u001b[0;31mValueError\u001b[0m: could not convert string to float: '1.08/1'"
     ]
    }
   ],
   "source": [
    "def fact(x):\n",
    "    return 1 if x==1 else x*fact(x-1)\n",
    "\n",
    "def comb(x, n):\n",
    "    return fact(x)/(fact(n)*fact(n-x))\n",
    "\n",
    "def b(n, x, p):\n",
    "    return comb(x, n)*p**x*(1-p)**(n-x)\n",
    "\n",
    "l, r = list(map(float, input().split(\" \")))\n",
    "\n",
    "odds = 1/r\n",
    "print(round(sum([b(i, 6, odds/(1+odds)) for i in range(3, 7)]), 3))"
   ]
  },
  {
   "cell_type": "code",
   "execution_count": 29,
   "id": "de823a16-bdb7-45bc-96d7-667f2a53bb80",
   "metadata": {},
   "outputs": [
    {
     "data": {
      "text/plain": [
       "1.08"
      ]
     },
     "execution_count": 29,
     "metadata": {},
     "output_type": "execute_result"
    }
   ],
   "source": [
    "odds = 1.08/1\n",
    "odds"
   ]
  },
  {
   "cell_type": "code",
   "execution_count": 30,
   "id": "bf774e3a-04b2-4d03-b289-ddf2f5c2b966",
   "metadata": {},
   "outputs": [
    {
     "name": "stdin",
     "output_type": "stream",
     "text": [
      " 12 2\n"
     ]
    },
    {
     "name": "stdout",
     "output_type": "stream",
     "text": [
      "1.0\n",
      "0.014\n"
     ]
    }
   ],
   "source": [
    "def fact(n):\n",
    "    return 1 if n == 0 else n*fact(n-1)\n",
    "\n",
    "def comb(n, x):\n",
    "    return fact(n) / (fact(x) * fact(n-x))\n",
    "\n",
    "def b(x, n, p):\n",
    "    return comb(n, x) * p**x * (1-p)**(n-x)\n",
    "\n",
    "p, n = list(map(int, input().split(\" \")))\n",
    "print(round(sum([b(i, n, p/100) for i in range(3)]), 3))\n",
    "print(round(sum([b(i, n, p/100) for i in range(2, n+1)]), 3))"
   ]
  },
  {
   "cell_type": "code",
   "execution_count": 31,
   "id": "f3210d78-8a7a-40de-9a81-2f6c2e546306",
   "metadata": {},
   "outputs": [],
   "source": [
    "def geo(n, p):\n",
    "    return (1-p)**(n-1)*p"
   ]
  },
  {
   "cell_type": "code",
   "execution_count": 32,
   "id": "9c9deab0-d2d0-40fc-9c92-75bb69530009",
   "metadata": {},
   "outputs": [
    {
     "data": {
      "text/plain": [
       "-6144"
      ]
     },
     "execution_count": 32,
     "metadata": {},
     "output_type": "execute_result"
    }
   ],
   "source": [
    "geo(12, 3)"
   ]
  },
  {
   "cell_type": "code",
   "execution_count": 33,
   "id": "d79b8708-37ff-477f-9fb5-45f063b9e192",
   "metadata": {},
   "outputs": [
    {
     "name": "stdin",
     "output_type": "stream",
     "text": [
      " 1 3\n",
      " 5\n"
     ]
    },
    {
     "name": "stdout",
     "output_type": "stream",
     "text": [
      "0.868\n"
     ]
    }
   ],
   "source": [
    "frac=input().split(' ')\n",
    "n=int(input())\n",
    "p=int(frac[0])/int(frac[1])\n",
    "q=1-p\n",
    "prob=1-q**n\n",
    "print(round(prob,3))"
   ]
  },
  {
   "cell_type": "code",
   "execution_count": 35,
   "id": "6297d083-8119-4471-a003-9f265ed7dfd3",
   "metadata": {},
   "outputs": [
    {
     "data": {
      "text/plain": [
       "120.0"
      ]
     },
     "execution_count": 35,
     "metadata": {},
     "output_type": "execute_result"
    }
   ],
   "source": [
    "#DISCRETE PROBABILITY\n",
    "from math import factorial\n",
    "\n",
    "factorial(10) / (factorial(3) * factorial(7))"
   ]
  },
  {
   "cell_type": "code",
   "execution_count": 36,
   "id": "66f56514-6101-45f9-b3e0-159392eacf9e",
   "metadata": {},
   "outputs": [
    {
     "data": {
      "text/plain": [
       "0.05739562800000002"
      ]
     },
     "execution_count": 36,
     "metadata": {},
     "output_type": "execute_result"
    }
   ],
   "source": [
    "from scipy.stats import binom\n",
    "\n",
    "binom.pmf(3, 10, 0.1)"
   ]
  },
  {
   "cell_type": "code",
   "execution_count": 37,
   "id": "5fd7b11b-05a0-48c7-b27d-caecdd20af0a",
   "metadata": {},
   "outputs": [
    {
     "data": {
      "text/plain": [
       "0.9872048016000002"
      ]
     },
     "execution_count": 37,
     "metadata": {},
     "output_type": "execute_result"
    }
   ],
   "source": [
    "sum([binom.pmf(x, 10, 0.1) for x in range(4)])"
   ]
  },
  {
   "cell_type": "code",
   "execution_count": 38,
   "id": "5d259ab1-eed1-461d-8ecd-d131fb716e88",
   "metadata": {},
   "outputs": [
    {
     "data": {
      "image/png": "[encoded data removed]",
      "text/plain": [
       "<Figure size 640x480 with 1 Axes>"
      ]
     },
     "metadata": {},
     "output_type": "display_data"
    }
   ],
   "source": [
    "import matplotlib.pyplot as plt\n",
    "\n",
    "plt.bar(range(11), [binom.pmf(x, 10, 0.1) for x in range(11)])\n",
    "plt.xlabel('k')\n",
    "plt.ylabel('p(X=k)')\n",
    "plt.title('Binomial PMF')\n",
    "plt.show()"
   ]
  },
  {
   "cell_type": "code",
   "execution_count": 39,
   "id": "7fb1f82f-d790-4d88-a6fa-8dc766cfb49a",
   "metadata": {},
   "outputs": [
    {
     "data": {
      "text/plain": [
       "0.314125043967762"
      ]
     },
     "execution_count": 39,
     "metadata": {},
     "output_type": "execute_result"
    }
   ],
   "source": [
    "p = 18 / 38\n",
    "sum([binom.pmf(x, 10, p) for x in range(6, 11)])"
   ]
  },
  {
   "cell_type": "code",
   "execution_count": 40,
   "id": "854cefe9-e978-45e4-9841-6bd936c08542",
   "metadata": {},
   "outputs": [],
   "source": [
    "#DESCRIPTIVE STATISTICS\n",
    "import numpy as np\n",
    "import pandas as pd\n",
    "import matplotlib.pyplot as plt\n",
    "import seaborn as sns"
   ]
  },
  {
   "cell_type": "code",
   "execution_count": 41,
   "id": "bd7ee021-bc14-43b8-ad0c-e838a4de133c",
   "metadata": {},
   "outputs": [
    {
     "ename": "ModuleNotFoundError",
     "evalue": "No module named 'ipywidgets'",
     "output_type": "error",
     "traceback": [
      "\u001b[0;31m---------------------------------------------------------------------------\u001b[0m",
      "\u001b[0;31mModuleNotFoundError\u001b[0m                       Traceback (most recent call last)",
      "Cell \u001b[0;32mIn[41], line 1\u001b[0m\n\u001b[0;32m----> 1\u001b[0m \u001b[38;5;28;01mimport\u001b[39;00m \u001b[38;5;21;01mipywidgets\u001b[39;00m \u001b[38;5;28;01mas\u001b[39;00m \u001b[38;5;21;01mwidgets\u001b[39;00m\n\u001b[1;32m      2\u001b[0m \u001b[38;5;28;01mfrom\u001b[39;00m \u001b[38;5;21;01mipywidgets\u001b[39;00m \u001b[38;5;28;01mimport\u001b[39;00m interact\n\u001b[1;32m      3\u001b[0m \u001b[38;5;28;01mfrom\u001b[39;00m \u001b[38;5;21;01mipywidgets\u001b[39;00m \u001b[38;5;28;01mimport\u001b[39;00m interact_manual\n",
      "\u001b[0;31mModuleNotFoundError\u001b[0m: No module named 'ipywidgets'"
     ]
    }
   ],
   "source": [
    "import ipywidgets as widgets\n",
    "from ipywidgets import interact\n",
    "from ipywidgets import interact_manual"
   ]
  },
  {
   "cell_type": "code",
   "execution_count": 42,
   "id": "b03c47c5-892f-4116-9028-60de861a3a3b",
   "metadata": {},
   "outputs": [],
   "source": [
    "#COMPARATIVE STATISTICS\n",
    "import scipy\n",
    "from scipy import stats"
   ]
  },
  {
   "cell_type": "code",
   "execution_count": 46,
   "id": "33d404d0-835b-4c10-b0dc-af719a4cdc72",
   "metadata": {},
   "outputs": [
    {
     "data": {
      "text/plain": [
       "TtestResult(statistic=4.512403659336718, pvalue=0.00023838063630967753, df=19)"
      ]
     },
     "execution_count": 46,
     "metadata": {},
     "output_type": "execute_result"
    }
   ],
   "source": [
    "#ONE SAMPLE T-TEST\n",
    "female_doctor_bps = [128, 127, 118, 115, 144, 142, 133, 140, 132, 131, \n",
    "                     111, 132, 149, 122, 139, 119, 136, 129, 126, 128]\n",
    "stats.ttest_1samp(female_doctor_bps, 120)"
   ]
  },
  {
   "cell_type": "code",
   "execution_count": 47,
   "id": "4a15fb80-64ac-4654-88fc-2b4451327453",
   "metadata": {},
   "outputs": [
    {
     "data": {
      "text/plain": [
       "TtestResult(statistic=3.5143256412718564, pvalue=0.0011571376404026137, df=38.0)"
      ]
     },
     "execution_count": 47,
     "metadata": {},
     "output_type": "execute_result"
    }
   ],
   "source": [
    "#TWO SAMPLE T-TEST\n",
    "female_doctor_bps = [128, 127, 118, 115, 144, 142, 133, 140, 132, 131, \n",
    "                     111, 132, 149, 122, 139, 119, 136, 129, 126, 128]\n",
    "\n",
    "male_consultant_bps = [118, 115, 112, 120, 124, 130, 123, 110, 120, 121,\n",
    "                       123, 125, 129, 130, 112, 117, 119, 120, 123, 128]\n",
    "\n",
    "stats.ttest_ind(female_doctor_bps, male_consultant_bps)"
   ]
  },
  {
   "cell_type": "code",
   "execution_count": 49,
   "id": "70225b62-cd95-4c73-b271-53cbfe51377a",
   "metadata": {},
   "outputs": [
    {
     "data": {
      "text/plain": [
       "TtestResult(statistic=-3.6244859951782136, pvalue=0.0055329408161001415, df=9)"
      ]
     },
     "execution_count": 49,
     "metadata": {},
     "output_type": "execute_result"
    }
   ],
   "source": [
    "#PAIRED T-TEST\n",
    "control = [8.0, 7.1, 6.5, 6.7, 7.2, 5.4, 4.7, 8.1, 6.3, 4.8]\n",
    "treatment = [9.9, 7.9, 7.6, 6.8, 7.1, 9.9, 10.5, 9.7, 10.9, 8.2]\n",
    "\n",
    "stats.ttest_rel(control, treatment)"
   ]
  },
  {
   "cell_type": "code",
   "execution_count": 50,
   "id": "cc976137-e077-4e31-b780-4cf8f22df2b4",
   "metadata": {},
   "outputs": [
    {
     "data": {
      "text/plain": [
       "F_onewayResult(statistic=4.846087862380136, pvalue=0.0159099583256229)"
      ]
     },
     "execution_count": 50,
     "metadata": {},
     "output_type": "execute_result"
    }
   ],
   "source": [
    "#ANALYSIS OF VARIANCE\n",
    "ctrl = [4.17, 5.58, 5.18, 6.11, 4.5, 4.61, 5.17, 4.53, 5.33, 5.14]\n",
    "trt1 = [4.81, 4.17, 4.41, 3.59, 5.87, 3.83, 6.03, 4.89, 4.32, 4.69]\n",
    "trt2 = [6.31, 5.12, 5.54, 5.5, 5.37, 5.29, 4.92, 6.15, 5.8, 5.26]\n",
    "\n",
    "stats.f_oneway(ctrl, trt1, trt2)"
   ]
  },
  {
   "cell_type": "code",
   "execution_count": 51,
   "id": "91a55ff2-7a47-4a73-8c27-b90844ad76a0",
   "metadata": {},
   "outputs": [],
   "source": [
    "#AB TESTING\n",
    "import scipy.stats as scs\n",
    "import pandas as pd\n",
    "import numpy as np\n",
    "\n",
    "import seaborn as sns\n",
    "import matplotlib.pyplot as plt"
   ]
  },
  {
   "cell_type": "code",
   "execution_count": 52,
   "id": "bd0552b4-7ed8-48cf-963d-89275715bae2",
   "metadata": {},
   "outputs": [],
   "source": [
    "bcr = 0.10\n",
    "\n",
    "d_hat = 0.02"
   ]
  },
  {
   "cell_type": "code",
   "execution_count": 63,
   "id": "dd184398-0b67-4430-8354-bce2f697e227",
   "metadata": {},
   "outputs": [],
   "source": [
    "N_A = 1000\n",
    "\n",
    "N_B = 1000"
   ]
  },
  {
   "cell_type": "code",
   "execution_count": 64,
   "id": "d480cfc1-f596-446c-aafc-282b7759b675",
   "metadata": {},
   "outputs": [],
   "source": [
    "def generate_data(N_A, N_B, p_A, p_B, days=None, control_label='A',\n",
    "                  test_label='B'):\n",
    "    # initiate empty container\n",
    "    data = []\n",
    "\n",
    "    # total amount of rows in the data\n",
    "    N = N_A + N_B\n",
    "\n",
    "    # distribute events based on proportion of group size\n",
    "    group_bern = scs.bernoulli(N_A / (N_A + N_B))\n",
    "\n",
    "    # initiate bernoulli distributions from which to randomly sample\n",
    "    A_bern = scs.bernoulli(p_A)\n",
    "    B_bern = scs.bernoulli(p_B)\n",
    "\n",
    "    for idx in range(N):\n",
    "        # initite empty row\n",
    "        row = {}\n",
    "        # for 'ts' column\n",
    "        if days is not None:\n",
    "            if type(days) == int:\n",
    "                row['ts'] = idx // (N // days)\n",
    "            else:\n",
    "                raise ValueError(\"Provide an integer for the days parameter.\")\n",
    "                \n",
    "        # assign group based on 50/50 probability\n",
    "        row['group'] = group_bern.rvs()\n",
    "\n",
    "        if row['group'] == 0:\n",
    "            # assign conversion based on provided parameters\n",
    "            row['converted'] = A_bern.rvs()\n",
    "        else:\n",
    "            row['converted'] = B_bern.rvs()\n",
    "        # collect row into data container\n",
    "        data.append(row)\n",
    "\n",
    "    # convert data into pandas dataframe\n",
    "    df = pd.DataFrame(data)\n",
    "\n",
    "    # transform group labels of 0s and 1s to user-defined group labels\n",
    "    df['group'] = df['group'].apply(\n",
    "        lambda x: control_label if x == 0 else test_label)\n",
    "\n",
    "    return df"
   ]
  },
  {
   "cell_type": "code",
   "execution_count": 65,
   "id": "87236064-d273-4fed-a667-d00c2f04fd22",
   "metadata": {},
   "outputs": [
    {
     "data": {
      "text/plain": [
       "(2000, 2)"
      ]
     },
     "execution_count": 65,
     "metadata": {},
     "output_type": "execute_result"
    }
   ],
   "source": [
    "ab_data = generate_data(N_A, N_B, bcr, d_hat)\n",
    "\n",
    "ab_data.shape"
   ]
  },
  {
   "cell_type": "code",
   "execution_count": 66,
   "id": "9fcae5ea-2e52-42c8-88c2-8f3c48232480",
   "metadata": {},
   "outputs": [
    {
     "data": {
      "text/html": [
       "<div>\n",
       "<style scoped>\n",
       "    .dataframe tbody tr th:only-of-type {\n",
       "        vertical-align: middle;\n",
       "    }\n",
       "\n",
       "    .dataframe tbody tr th {\n",
       "        vertical-align: top;\n",
       "    }\n",
       "\n",
       "    .dataframe thead th {\n",
       "        text-align: right;\n",
       "    }\n",
       "</style>\n",
       "<table border=\"1\" class=\"dataframe\">\n",
       "  <thead>\n",
       "    <tr style=\"text-align: right;\">\n",
       "      <th></th>\n",
       "      <th>group</th>\n",
       "      <th>converted</th>\n",
       "    </tr>\n",
       "  </thead>\n",
       "  <tbody>\n",
       "    <tr>\n",
       "      <th>0</th>\n",
       "      <td>B</td>\n",
       "      <td>0</td>\n",
       "    </tr>\n",
       "    <tr>\n",
       "      <th>1</th>\n",
       "      <td>A</td>\n",
       "      <td>0</td>\n",
       "    </tr>\n",
       "    <tr>\n",
       "      <th>2</th>\n",
       "      <td>A</td>\n",
       "      <td>0</td>\n",
       "    </tr>\n",
       "    <tr>\n",
       "      <th>3</th>\n",
       "      <td>A</td>\n",
       "      <td>0</td>\n",
       "    </tr>\n",
       "    <tr>\n",
       "      <th>4</th>\n",
       "      <td>A</td>\n",
       "      <td>0</td>\n",
       "    </tr>\n",
       "  </tbody>\n",
       "</table>\n",
       "</div>"
      ],
      "text/plain": [
       "  group  converted\n",
       "0     B          0\n",
       "1     A          0\n",
       "2     A          0\n",
       "3     A          0\n",
       "4     A          0"
      ]
     },
     "execution_count": 66,
     "metadata": {},
     "output_type": "execute_result"
    }
   ],
   "source": [
    "ab_data.head()"
   ]
  }
 ],
 "metadata": {
  "kernelspec": {
   "display_name": "Python 3 (ipykernel)",
   "language": "python",
   "name": "python3"
  },
  "language_info": {
   "codemirror_mode": {
    "name": "ipython",
    "version": 3
   },
   "file_extension": ".py",
   "mimetype": "text/x-python",
   "name": "python",
   "nbconvert_exporter": "python",
   "pygments_lexer": "ipython3",
   "version": "3.12.5"
  }
 },
 "nbformat": 4,
 "nbformat_minor": 5
}
